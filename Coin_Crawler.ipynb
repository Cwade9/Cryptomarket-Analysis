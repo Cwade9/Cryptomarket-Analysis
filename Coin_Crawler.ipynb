{
 "cells": [
  {
   "cell_type": "code",
   "execution_count": 1,
   "metadata": {},
   "outputs": [],
   "source": [
    "import bs4\n",
    "import requests\n",
    "import pandas as pd\n",
    "import csv"
   ]
  },
  {
   "cell_type": "code",
   "execution_count": 18,
   "metadata": {},
   "outputs": [],
   "source": [
    "#URL = 'https://coinmarketcap.com/currencies/bitcoin/historical-data/?start=20170802&end=20190802' #Bitcoin\n",
    "#URL = 'https://coinmarketcap.com/currencies/ethereum/historical-data/?start=20170802&end=20190802'# Ethereum\n",
    "#URL = 'https://coinmarketcap.com/currencies/bitcoin-cash/historical-data/?start=20170802&end=20190802' #Bitcoin Cash\n",
    "#URL = 'https://coinmarketcap.com/currencies/litecoin/historical-data/?start=20170802&end=20190802'#Litecoin\n",
    "#URL = 'https://coinmarketcap.com/currencies/eos/historical-data/?start=20170804&end=20190802'#EOS\n",
    "#URL = 'https://coinmarketcap.com/currencies/ethereum-classic/historical-data/?start=20170802&end=20190802'#Ethereum Classic\n",
    "#URL = 'https://coinmarketcap.com/currencies/chainlink/historical-data/?start=20190802&end=20190802'#Chainlink\n",
    "def get_url(url):\n",
    "    response = requests.get(url) #Get the url\n",
    "    return bs4.BeautifulSoup(response.text, 'html.parser') #\n",
    "\n",
    "COLUMNS = ['Date','Open','High','Low', 'Close', 'Volume', 'Market Cap']\n",
    "def scrape(coinmarket_stocks):\n",
    "    table = coinmarket_stocks.find(\"table\")\n",
    "    rows = table.find_all(\"tr\")\n",
    "    data = []\n",
    "    for row in rows:\n",
    "        cells = row.find_all(\"td\")\n",
    "        data.append([cell.text for cell in cells])\n",
    "    return pd.DataFrame(data, columns=COLUMNS)\n",
    "\n",
    "\n",
    "if __name__==\"__main__\":\n",
    "    page = get_url(URL)\n",
    "    current = scrape(page)\n"
   ]
  },
  {
   "cell_type": "code",
   "execution_count": 19,
   "metadata": {},
   "outputs": [],
   "source": [
    "current.to_csv('Chainlink.csv')"
   ]
  }
 ],
 "metadata": {
  "kernelspec": {
   "display_name": "Python 3",
   "language": "python",
   "name": "python3"
  },
  "language_info": {
   "codemirror_mode": {
    "name": "ipython",
    "version": 3
   },
   "file_extension": ".py",
   "mimetype": "text/x-python",
   "name": "python",
   "nbconvert_exporter": "python",
   "pygments_lexer": "ipython3",
   "version": "3.6.8"
  }
 },
 "nbformat": 4,
 "nbformat_minor": 2
}
